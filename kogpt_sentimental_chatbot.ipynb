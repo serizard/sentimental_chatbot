{
  "nbformat": 4,
  "nbformat_minor": 0,
  "metadata": {
    "colab": {
      "provenance": [],
      "machine_shape": "hm",
      "gpuType": "T4"
    },
    "kernelspec": {
      "name": "python3",
      "display_name": "Python 3"
    },
    "language_info": {
      "name": "python"
    },
    "accelerator": "GPU"
  },
  "cells": [
    {
      "cell_type": "code",
      "source": [
        "from google.colab import drive\n",
        "drive.mount('/content/drive')"
      ],
      "metadata": {
        "colab": {
          "base_uri": "https://localhost:8080/"
        },
        "id": "hT480fCDBBn1",
        "outputId": "2d7925ce-2be9-43e2-89eb-d85e3682789b"
      },
      "execution_count": 8,
      "outputs": [
        {
          "output_type": "stream",
          "name": "stdout",
          "text": [
            "Mounted at /content/drive\n"
          ]
        }
      ]
    },
    {
      "cell_type": "code",
      "source": [
        "import math\n",
        "import numpy as np\n",
        "import pandas as pd\n",
        "import random\n",
        "import re\n",
        "import torch\n",
        "import urllib.request\n",
        "from torch.utils.data import DataLoader, Dataset\n",
        "from transformers.optimization import AdamW, get_cosine_schedule_with_warmup\n",
        "from transformers import PreTrainedTokenizerFast, GPT2LMHeadModel\n",
        "from tqdm import tqdm\n",
        "from torch.nn.utils.rnn import pad_sequence\n",
        "from torch.optim.lr_scheduler import LambdaLR"
      ],
      "metadata": {
        "id": "YvLxK3REA_L0"
      },
      "execution_count": 6,
      "outputs": []
    },
    {
      "cell_type": "code",
      "source": [
        "train_data = pd.read_excel('/content/drive/MyDrive/감성대화말뭉치(최종데이터)_Training.xlsx')\n",
        "val_data = pd.read_excel('/content/drive/MyDrive/감성대화말뭉치(최종데이터)_Validation.xlsx')"
      ],
      "metadata": {
        "id": "5YiKakD5D8Fs"
      },
      "execution_count": 5,
      "outputs": []
    },
    {
      "cell_type": "markdown",
      "source": [
        "# 데이터 EDA 및 전처리"
      ],
      "metadata": {
        "id": "gd6i9XDBGguL"
      }
    },
    {
      "cell_type": "code",
      "source": [
        "# 필요 라이브러리 불러오기\n",
        "import matplotlib.font_manager as fm\n",
        "import os\n",
        "import matplotlib.pyplot as plt\n",
        "\n",
        "# apt-get : 패키지 설치 명령어\n",
        "# -qq : 에러외의 메세지 숨기는 옵션키\n",
        "!apt-get -qq install fonts-nanum\n",
        "\n",
        "\n",
        "fe = fm.FontEntry(\n",
        "    fname=r'/usr/share/fonts/truetype/nanum/NanumGothic.ttf',\n",
        "    name='NanumGothic')\n",
        "fm.fontManager.ttflist.insert(0, fe)\n",
        "plt.rcParams.update({'font.size': 10, 'font.family': 'NanumGothic'})"
      ],
      "metadata": {
        "colab": {
          "base_uri": "https://localhost:8080/"
        },
        "id": "H1SeumJ8HYP3",
        "outputId": "78ada731-781a-4cd5-a3c9-e837c12eed4a"
      },
      "execution_count": 6,
      "outputs": [
        {
          "output_type": "stream",
          "name": "stdout",
          "text": [
            "Selecting previously unselected package fonts-nanum.\n",
            "(Reading database ... 121918 files and directories currently installed.)\n",
            "Preparing to unpack .../fonts-nanum_20200506-1_all.deb ...\n",
            "Unpacking fonts-nanum (20200506-1) ...\n",
            "Setting up fonts-nanum (20200506-1) ...\n",
            "Processing triggers for fontconfig (2.13.1-4.2ubuntu5) ...\n"
          ]
        }
      ]
    },
    {
      "cell_type": "code",
      "source": [
        "def extract_emotion_with_dialogue(data):\n",
        "    emotion, human, system = [], [], []\n",
        "\n",
        "    for _, row in data.iterrows():\n",
        "        row = [x for x in row if type(x) is not float]\n",
        "        if len(row) % 2 == 1:\n",
        "            while len(row) > 1:\n",
        "                emotion.append(row[0])\n",
        "                human.append(row.pop(1))\n",
        "                system.append(row.pop(1))\n",
        "\n",
        "    return pd.DataFrame({'감정': emotion, '사람문장': human, '시스템문장': system})\n",
        "\n",
        "\n",
        "train_data = train_data[['감정_소분류', '사람문장1', '시스템문장1', '사람문장2','시스템문장2', '사람문장3', '시스템문장3']]\n",
        "val_data = val_data[['감정_소분류', '사람문장1', '시스템문장1', '사람문장2','시스템문장2', '사람문장3', '시스템문장3']]\n",
        "\n",
        "train_data = extract_emotion_with_dialogue(train_data)\n",
        "val_data = extract_emotion_with_dialogue(val_data)"
      ],
      "metadata": {
        "id": "zGI0FaUFGgCC"
      },
      "execution_count": 7,
      "outputs": []
    },
    {
      "cell_type": "code",
      "source": [
        "print(train_data['감정'].value_counts(), '\\n')\n",
        "\n",
        "train_data_counts = train_data['감정'].value_counts()\n",
        "cumulative_train_data = train_data_counts.cumsum()\n",
        "\n",
        "plt.figure(figsize=(10, 6))\n",
        "plt.stackplot(train_data_counts.index, train_data_counts.values, labels=train_data_counts.index, alpha=0.8)\n",
        "plt.xticks([])\n",
        "\n",
        "plt.title('감정_소분류에 따른 누적 분포')\n",
        "plt.xlabel('감정_소분류')\n",
        "plt.ylabel('누적 수')\n",
        "plt.show()"
      ],
      "metadata": {
        "id": "6L-bckkiG605",
        "colab": {
          "base_uri": "https://localhost:8080/",
          "height": 1000
        },
        "outputId": "a581c6a1-8c2c-457b-dca7-68ca2e651c66"
      },
      "execution_count": 8,
      "outputs": [
        {
          "output_type": "stream",
          "name": "stdout",
          "text": [
            "감정\n",
            "고립된            5124\n",
            "혼란스러운          5024\n",
            "걱정스러운          3475\n",
            "짜증내는           2978\n",
            "눈물이 나는         2819\n",
            "우울한            2814\n",
            "두려운            2791\n",
            "억울한            2787\n",
            "노여워하는          2779\n",
            "성가신            2752\n",
            "스트레스 받는        2734\n",
            "슬픔             2719\n",
            "괴로워하는          2714\n",
            "가난한, 불우한       2711\n",
            "분노             2702\n",
            "비통한            2687\n",
            "상처             2655\n",
            "툴툴대는           2635\n",
            "한심한            2600\n",
            "충격 받은          2597\n",
            "배신당한           2579\n",
            "후회되는           2556\n",
            "낙담한            2546\n",
            "부끄러운           2542\n",
            "질투하는           2535\n",
            "초조한            2530\n",
            "불안             2507\n",
            "남의 시선을 의식하는    2505\n",
            "구역질 나는         2501\n",
            "죄책감의           2498\n",
            "환멸을 느끼는        2497\n",
            "안달하는           2484\n",
            "좌절한            2477\n",
            "외로운            2475\n",
            "열등감            2466\n",
            "취약한            2466\n",
            "실망한            2464\n",
            "버려진            2448\n",
            "당황             2447\n",
            "조심스러운          2440\n",
            "회의적인           2416\n",
            "악의적인           2395\n",
            "당혹스러운          2389\n",
            "마비된            2385\n",
            "희생된            2370\n",
            "혐오스러운          2369\n",
            "염세적인           2325\n",
            "방어적인           2294\n",
            "기쁨             1835\n",
            "만족스러운          1810\n",
            "안도             1757\n",
            "신이 난           1738\n",
            "감사하는           1737\n",
            "신뢰하는           1674\n",
            "편안한            1654\n",
            "느긋             1586\n",
            "자신하는           1586\n",
            "흥분             1570\n",
            "Name: count, dtype: int64 \n",
            "\n"
          ]
        },
        {
          "output_type": "display_data",
          "data": {
            "text/plain": [
              "<Figure size 1000x600 with 1 Axes>"
            ],
            "image/png": "[encoded data removed]"
          },
          "metadata": {}
        }
      ]
    },
    {
      "cell_type": "code",
      "source": [
        "def top_percentage_ratio(percentage, data_counts):\n",
        "    total_sum = sum(data_counts)  # 전체 합\n",
        "    over_threshold = data_counts[:int(len(data_counts)*percentage/100)]\n",
        "    ratio = sum(over_threshold) / total_sum\n",
        "    return ratio\n",
        "\n",
        "top_5_percent_ratio = top_percentage_ratio(5, train_data_counts)\n",
        "top_10_percent_ratio = top_percentage_ratio(10, train_data_counts)\n",
        "top_30_percent_ratio = top_percentage_ratio(30, train_data_counts)\n",
        "top_50_percent_ratio = top_percentage_ratio(50, train_data_counts)\n",
        "\n",
        "# 결과 출력\n",
        "print(f\"상위 5%에 해당하는 클래스의 전체 데이터 대비 비율: {top_5_percent_ratio:.2%}\")\n",
        "print(f\"상위 10%에 해당하는 클래스의 전체 데이터 대비 비율: {top_10_percent_ratio:.2%}\")\n",
        "print(f\"상위 30%에 해당하는 클래스의 전체 데이터 대비 비율: {top_30_percent_ratio:.2%}\")\n",
        "print(f\"상위 50%에 해당하는 클래스의 전체 데이터 대비 비율: {top_50_percent_ratio:.2%}\")"
      ],
      "metadata": {
        "id": "qYZ3_MzhJ98v",
        "colab": {
          "base_uri": "https://localhost:8080/"
        },
        "outputId": "180b6cbc-28fb-4b00-d92a-7eaec3d1b914"
      },
      "execution_count": 9,
      "outputs": [
        {
          "output_type": "stream",
          "name": "stdout",
          "text": [
            "상위 5%에 해당하는 클래스의 전체 데이터 대비 비율: 6.95%\n",
            "상위 10%에 해당하는 클래스의 전체 데이터 대비 비율: 13.31%\n",
            "상위 30%에 해당하는 클래스의 전체 데이터 대비 비율: 35.81%\n",
            "상위 50%에 해당하는 클래스의 전체 데이터 대비 비율: 56.80%\n"
          ]
        }
      ]
    },
    {
      "cell_type": "markdown",
      "source": [
        "감정 분류가 비교적 고르게 분포해 있음을 알 수 있음"
      ],
      "metadata": {
        "id": "w6IH_gO3LPml"
      }
    },
    {
      "cell_type": "code",
      "source": [
        "# 메모리의 효율적인 사용 및 학습 효율성 증가를 위해 너무 긴 대화 데이터셋은 제거\n",
        "\n",
        "# 전체 문장 길이가 100 초과인 행 삭제\n",
        "train_data['총문장'] = train_data['감정'] + train_data['사람문장'] + train_data['시스템문장']\n",
        "train_data = train_data[train_data['총문장'].apply(len) <= 100]\n",
        "\n",
        "train_data = train_data.drop(columns=['총문장']).reset_index()\n",
        "\n",
        "train_data"
      ],
      "metadata": {
        "id": "71ZjWNeTku-C",
        "colab": {
          "base_uri": "https://localhost:8080/",
          "height": 770
        },
        "outputId": "0c284f2d-8f9a-4c3f-b96f-cf748765378e"
      },
      "execution_count": 10,
      "outputs": [
        {
          "output_type": "execute_result",
          "data": {
            "text/plain": [
              "         index     감정                                               사람문장  \\\n",
              "0            0  노여워하는                          일은 왜 해도 해도 끝이 없을까? 화가 난다.   \n",
              "1            1  노여워하는                그냥 내가 해결하는 게 나아. 남들한테 부담 주고 싶지도 않고.   \n",
              "2            2  노여워하는     이번 달에 또 급여가 깎였어! 물가는 오르는데 월급만 자꾸 깎이니까 너무 화가 나.   \n",
              "3            3  노여워하는   최대한 지출을 억제해야겠어. 월급이 줄어들었으니 고정지출을 줄일 수밖에 없을 것 같아.   \n",
              "4            7  노여워하는              직장 사람들과 솔직하게 이야기해보고 싶어. 일하는 데에 방해된다고.   \n",
              "...        ...    ...                                                ...   \n",
              "140163  145945  걱정스러운             이제 할 수 있는 일도 없고 이렇게 힘들게 사는 게 불만스럽기만 해.   \n",
              "140164  145946  걱정스러운            함께 친하게 지내던 동네 언니 동생들과 빈자리를 조금이나마 채울까 해.   \n",
              "140165  145947   배신당한  남편과 결혼한 지 사십 년이야. 이제 사람 만나는 것도 버겁고 알던 사람도 점점 사라져.   \n",
              "140166  145948   배신당한             사람들을 만나는 것이 어려워. 자꾸 사람들을 의심하게만 되고 말이야.   \n",
              "140167  145949   배신당한  사람들을 볼 때 의심하고 불신하는 마음을 억눌러야겠어. 사람들을 색안경을 끼고 보지...   \n",
              "\n",
              "                                                 시스템문장  \n",
              "0                          많이 힘드시겠어요. 주위에 의논할 상대가 있나요?  \n",
              "1       혼자 해결하기로 했군요. 혼자서 해결하기 힘들면 주위에 의논할 사람을 찾아보세요.   \n",
              "2             급여가 줄어 속상하시겠어요. 월급이 줄어든 것을 어떻게 보완하실 건가요?  \n",
              "3                             월급이 줄어든 만큼 소비를 줄일 계획이군요.  \n",
              "4                          직장 사람들과 이야기를 해 보겠다고 결심하셨군요.  \n",
              "...                                                ...  \n",
              "140163                지금의 감정을 나아지게 할 수 있는 어떤 방법이 있을까요?  \n",
              "140164                         지인분들과 좋은 시간 보내셨으면 좋겠어요.  \n",
              "140165                 대인관계에 대한 어려움 때문에 걱정되시고 속상하시겠어요.  \n",
              "140166                 어떻게 하면 지금의 상황에 변화를 만들어낼 수 있을까요?  \n",
              "140167              원하시는 대로 가지고 계시던 걱정이 잘 해결되셨으면 좋겠어요.  \n",
              "\n",
              "[140168 rows x 4 columns]"
            ],
            "text/html": [
              "\n",
              "  <div id=\"df-5e3836ed-114d-4703-a8af-932e2938ed78\" class=\"colab-df-container\">\n",
              "    <div>\n",
              "<style scoped>\n",
              "    .dataframe tbody tr th:only-of-type {\n",
              "        vertical-align: middle;\n",
              "    }\n",
              "\n",
              "    .dataframe tbody tr th {\n",
              "        vertical-align: top;\n",
              "    }\n",
              "\n",
              "    .dataframe thead th {\n",
              "        text-align: right;\n",
              "    }\n",
              "</style>\n",
              "<table border=\"1\" class=\"dataframe\">\n",
              "  <thead>\n",
              "    <tr style=\"text-align: right;\">\n",
              "      <th></th>\n",
              "      <th>index</th>\n",
              "      <th>감정</th>\n",
              "      <th>사람문장</th>\n",
              "      <th>시스템문장</th>\n",
              "    </tr>\n",
              "  </thead>\n",
              "  <tbody>\n",
              "    <tr>\n",
              "      <th>0</th>\n",
              "      <td>0</td>\n",
              "      <td>노여워하는</td>\n",
              "      <td>일은 왜 해도 해도 끝이 없을까? 화가 난다.</td>\n",
              "      <td>많이 힘드시겠어요. 주위에 의논할 상대가 있나요?</td>\n",
              "    </tr>\n",
              "    <tr>\n",
              "      <th>1</th>\n",
              "      <td>1</td>\n",
              "      <td>노여워하는</td>\n",
              "      <td>그냥 내가 해결하는 게 나아. 남들한테 부담 주고 싶지도 않고.</td>\n",
              "      <td>혼자 해결하기로 했군요. 혼자서 해결하기 힘들면 주위에 의논할 사람을 찾아보세요.</td>\n",
              "    </tr>\n",
              "    <tr>\n",
              "      <th>2</th>\n",
              "      <td>2</td>\n",
              "      <td>노여워하는</td>\n",
              "      <td>이번 달에 또 급여가 깎였어! 물가는 오르는데 월급만 자꾸 깎이니까 너무 화가 나.</td>\n",
              "      <td>급여가 줄어 속상하시겠어요. 월급이 줄어든 것을 어떻게 보완하실 건가요?</td>\n",
              "    </tr>\n",
              "    <tr>\n",
              "      <th>3</th>\n",
              "      <td>3</td>\n",
              "      <td>노여워하는</td>\n",
              "      <td>최대한 지출을 억제해야겠어. 월급이 줄어들었으니 고정지출을 줄일 수밖에 없을 것 같아.</td>\n",
              "      <td>월급이 줄어든 만큼 소비를 줄일 계획이군요.</td>\n",
              "    </tr>\n",
              "    <tr>\n",
              "      <th>4</th>\n",
              "      <td>7</td>\n",
              "      <td>노여워하는</td>\n",
              "      <td>직장 사람들과 솔직하게 이야기해보고 싶어. 일하는 데에 방해된다고.</td>\n",
              "      <td>직장 사람들과 이야기를 해 보겠다고 결심하셨군요.</td>\n",
              "    </tr>\n",
              "    <tr>\n",
              "      <th>...</th>\n",
              "      <td>...</td>\n",
              "      <td>...</td>\n",
              "      <td>...</td>\n",
              "      <td>...</td>\n",
              "    </tr>\n",
              "    <tr>\n",
              "      <th>140163</th>\n",
              "      <td>145945</td>\n",
              "      <td>걱정스러운</td>\n",
              "      <td>이제 할 수 있는 일도 없고 이렇게 힘들게 사는 게 불만스럽기만 해.</td>\n",
              "      <td>지금의 감정을 나아지게 할 수 있는 어떤 방법이 있을까요?</td>\n",
              "    </tr>\n",
              "    <tr>\n",
              "      <th>140164</th>\n",
              "      <td>145946</td>\n",
              "      <td>걱정스러운</td>\n",
              "      <td>함께 친하게 지내던 동네 언니 동생들과 빈자리를 조금이나마 채울까 해.</td>\n",
              "      <td>지인분들과 좋은 시간 보내셨으면 좋겠어요.</td>\n",
              "    </tr>\n",
              "    <tr>\n",
              "      <th>140165</th>\n",
              "      <td>145947</td>\n",
              "      <td>배신당한</td>\n",
              "      <td>남편과 결혼한 지 사십 년이야. 이제 사람 만나는 것도 버겁고 알던 사람도 점점 사라져.</td>\n",
              "      <td>대인관계에 대한 어려움 때문에 걱정되시고 속상하시겠어요.</td>\n",
              "    </tr>\n",
              "    <tr>\n",
              "      <th>140166</th>\n",
              "      <td>145948</td>\n",
              "      <td>배신당한</td>\n",
              "      <td>사람들을 만나는 것이 어려워. 자꾸 사람들을 의심하게만 되고 말이야.</td>\n",
              "      <td>어떻게 하면 지금의 상황에 변화를 만들어낼 수 있을까요?</td>\n",
              "    </tr>\n",
              "    <tr>\n",
              "      <th>140167</th>\n",
              "      <td>145949</td>\n",
              "      <td>배신당한</td>\n",
              "      <td>사람들을 볼 때 의심하고 불신하는 마음을 억눌러야겠어. 사람들을 색안경을 끼고 보지...</td>\n",
              "      <td>원하시는 대로 가지고 계시던 걱정이 잘 해결되셨으면 좋겠어요.</td>\n",
              "    </tr>\n",
              "  </tbody>\n",
              "</table>\n",
              "<p>140168 rows × 4 columns</p>\n",
              "</div>\n",
              "    <div class=\"colab-df-buttons\">\n",
              "\n",
              "  <div class=\"colab-df-container\">\n",
              "    <button class=\"colab-df-convert\" onclick=\"convertToInteractive('df-5e3836ed-114d-4703-a8af-932e2938ed78')\"\n",
              "            title=\"Convert this dataframe to an interactive table.\"\n",
              "            style=\"display:none;\">\n",
              "\n",
              "  <svg xmlns=\"http://www.w3.org/2000/svg\" height=\"24px\" viewBox=\"0 -960 960 960\">\n",
              "    <path d=\"M120-120v-720h720v720H120Zm60-500h600v-160H180v160Zm220 220h160v-160H400v160Zm0 220h160v-160H400v160ZM180-400h160v-160H180v160Zm440 0h160v-160H620v160ZM180-180h160v-160H180v160Zm440 0h160v-160H620v160Z\"/>\n",
              "  </svg>\n",
              "    </button>\n",
              "\n",
              "  <style>\n",
              "    .colab-df-container {\n",
              "      display:flex;\n",
              "      gap: 12px;\n",
              "    }\n",
              "\n",
              "    .colab-df-convert {\n",
              "      background-color: #E8F0FE;\n",
              "      border: none;\n",
              "      border-radius: 50%;\n",
              "      cursor: pointer;\n",
              "      display: none;\n",
              "      fill: #1967D2;\n",
              "      height: 32px;\n",
              "      padding: 0 0 0 0;\n",
              "      width: 32px;\n",
              "    }\n",
              "\n",
              "    .colab-df-convert:hover {\n",
              "      background-color: #E2EBFA;\n",
              "      box-shadow: 0px 1px 2px rgba(60, 64, 67, 0.3), 0px 1px 3px 1px rgba(60, 64, 67, 0.15);\n",
              "      fill: #174EA6;\n",
              "    }\n",
              "\n",
              "    .colab-df-buttons div {\n",
              "      margin-bottom: 4px;\n",
              "    }\n",
              "\n",
              "    [theme=dark] .colab-df-convert {\n",
              "      background-color: #3B4455;\n",
              "      fill: #D2E3FC;\n",
              "    }\n",
              "\n",
              "    [theme=dark] .colab-df-convert:hover {\n",
              "      background-color: #434B5C;\n",
              "      box-shadow: 0px 1px 3px 1px rgba(0, 0, 0, 0.15);\n",
              "      filter: drop-shadow(0px 1px 2px rgba(0, 0, 0, 0.3));\n",
              "      fill: #FFFFFF;\n",
              "    }\n",
              "  </style>\n",
              "\n",
              "    <script>\n",
              "      const buttonEl =\n",
              "        document.querySelector('#df-5e3836ed-114d-4703-a8af-932e2938ed78 button.colab-df-convert');\n",
              "      buttonEl.style.display =\n",
              "        google.colab.kernel.accessAllowed ? 'block' : 'none';\n",
              "\n",
              "      async function convertToInteractive(key) {\n",
              "        const element = document.querySelector('#df-5e3836ed-114d-4703-a8af-932e2938ed78');\n",
              "        const dataTable =\n",
              "          await google.colab.kernel.invokeFunction('convertToInteractive',\n",
              "                                                    [key], {});\n",
              "        if (!dataTable) return;\n",
              "\n",
              "        const docLinkHtml = 'Like what you see? Visit the ' +\n",
              "          '<a target=\"_blank\" href=https://colab.research.google.com/notebooks/data_table.ipynb>data table notebook</a>'\n",
              "          + ' to learn more about interactive tables.';\n",
              "        element.innerHTML = '';\n",
              "        dataTable['output_type'] = 'display_data';\n",
              "        await google.colab.output.renderOutput(dataTable, element);\n",
              "        const docLink = document.createElement('div');\n",
              "        docLink.innerHTML = docLinkHtml;\n",
              "        element.appendChild(docLink);\n",
              "      }\n",
              "    </script>\n",
              "  </div>\n",
              "\n",
              "\n",
              "<div id=\"df-87384c6d-35e9-416c-a1be-669a95a6fa43\">\n",
              "  <button class=\"colab-df-quickchart\" onclick=\"quickchart('df-87384c6d-35e9-416c-a1be-669a95a6fa43')\"\n",
              "            title=\"Suggest charts\"\n",
              "            style=\"display:none;\">\n",
              "\n",
              "<svg xmlns=\"http://www.w3.org/2000/svg\" height=\"24px\"viewBox=\"0 0 24 24\"\n",
              "     width=\"24px\">\n",
              "    <g>\n",
              "        <path d=\"M19 3H5c-1.1 0-2 .9-2 2v14c0 1.1.9 2 2 2h14c1.1 0 2-.9 2-2V5c0-1.1-.9-2-2-2zM9 17H7v-7h2v7zm4 0h-2V7h2v10zm4 0h-2v-4h2v4z\"/>\n",
              "    </g>\n",
              "</svg>\n",
              "  </button>\n",
              "\n",
              "<style>\n",
              "  .colab-df-quickchart {\n",
              "      --bg-color: #E8F0FE;\n",
              "      --fill-color: #1967D2;\n",
              "      --hover-bg-color: #E2EBFA;\n",
              "      --hover-fill-color: #174EA6;\n",
              "      --disabled-fill-color: #AAA;\n",
              "      --disabled-bg-color: #DDD;\n",
              "  }\n",
              "\n",
              "  [theme=dark] .colab-df-quickchart {\n",
              "      --bg-color: #3B4455;\n",
              "      --fill-color: #D2E3FC;\n",
              "      --hover-bg-color: #434B5C;\n",
              "      --hover-fill-color: #FFFFFF;\n",
              "      --disabled-bg-color: #3B4455;\n",
              "      --disabled-fill-color: #666;\n",
              "  }\n",
              "\n",
              "  .colab-df-quickchart {\n",
              "    background-color: var(--bg-color);\n",
              "    border: none;\n",
              "    border-radius: 50%;\n",
              "    cursor: pointer;\n",
              "    display: none;\n",
              "    fill: var(--fill-color);\n",
              "    height: 32px;\n",
              "    padding: 0;\n",
              "    width: 32px;\n",
              "  }\n",
              "\n",
              "  .colab-df-quickchart:hover {\n",
              "    background-color: var(--hover-bg-color);\n",
              "    box-shadow: 0 1px 2px rgba(60, 64, 67, 0.3), 0 1px 3px 1px rgba(60, 64, 67, 0.15);\n",
              "    fill: var(--button-hover-fill-color);\n",
              "  }\n",
              "\n",
              "  .colab-df-quickchart-complete:disabled,\n",
              "  .colab-df-quickchart-complete:disabled:hover {\n",
              "    background-color: var(--disabled-bg-color);\n",
              "    fill: var(--disabled-fill-color);\n",
              "    box-shadow: none;\n",
              "  }\n",
              "\n",
              "  .colab-df-spinner {\n",
              "    border: 2px solid var(--fill-color);\n",
              "    border-color: transparent;\n",
              "    border-bottom-color: var(--fill-color);\n",
              "    animation:\n",
              "      spin 1s steps(1) infinite;\n",
              "  }\n",
              "\n",
              "  @keyframes spin {\n",
              "    0% {\n",
              "      border-color: transparent;\n",
              "      border-bottom-color: var(--fill-color);\n",
              "      border-left-color: var(--fill-color);\n",
              "    }\n",
              "    20% {\n",
              "      border-color: transparent;\n",
              "      border-left-color: var(--fill-color);\n",
              "      border-top-color: var(--fill-color);\n",
              "    }\n",
              "    30% {\n",
              "      border-color: transparent;\n",
              "      border-left-color: var(--fill-color);\n",
              "      border-top-color: var(--fill-color);\n",
              "      border-right-color: var(--fill-color);\n",
              "    }\n",
              "    40% {\n",
              "      border-color: transparent;\n",
              "      border-right-color: var(--fill-color);\n",
              "      border-top-color: var(--fill-color);\n",
              "    }\n",
              "    60% {\n",
              "      border-color: transparent;\n",
              "      border-right-color: var(--fill-color);\n",
              "    }\n",
              "    80% {\n",
              "      border-color: transparent;\n",
              "      border-right-color: var(--fill-color);\n",
              "      border-bottom-color: var(--fill-color);\n",
              "    }\n",
              "    90% {\n",
              "      border-color: transparent;\n",
              "      border-bottom-color: var(--fill-color);\n",
              "    }\n",
              "  }\n",
              "</style>\n",
              "\n",
              "  <script>\n",
              "    async function quickchart(key) {\n",
              "      const quickchartButtonEl =\n",
              "        document.querySelector('#' + key + ' button');\n",
              "      quickchartButtonEl.disabled = true;  // To prevent multiple clicks.\n",
              "      quickchartButtonEl.classList.add('colab-df-spinner');\n",
              "      try {\n",
              "        const charts = await google.colab.kernel.invokeFunction(\n",
              "            'suggestCharts', [key], {});\n",
              "      } catch (error) {\n",
              "        console.error('Error during call to suggestCharts:', error);\n",
              "      }\n",
              "      quickchartButtonEl.classList.remove('colab-df-spinner');\n",
              "      quickchartButtonEl.classList.add('colab-df-quickchart-complete');\n",
              "    }\n",
              "    (() => {\n",
              "      let quickchartButtonEl =\n",
              "        document.querySelector('#df-87384c6d-35e9-416c-a1be-669a95a6fa43 button');\n",
              "      quickchartButtonEl.style.display =\n",
              "        google.colab.kernel.accessAllowed ? 'block' : 'none';\n",
              "    })();\n",
              "  </script>\n",
              "</div>\n",
              "\n",
              "  <div id=\"id_04188f90-9abb-45b6-8f09-8c93a5eda8f4\">\n",
              "    <style>\n",
              "      .colab-df-generate {\n",
              "        background-color: #E8F0FE;\n",
              "        border: none;\n",
              "        border-radius: 50%;\n",
              "        cursor: pointer;\n",
              "        display: none;\n",
              "        fill: #1967D2;\n",
              "        height: 32px;\n",
              "        padding: 0 0 0 0;\n",
              "        width: 32px;\n",
              "      }\n",
              "\n",
              "      .colab-df-generate:hover {\n",
              "        background-color: #E2EBFA;\n",
              "        box-shadow: 0px 1px 2px rgba(60, 64, 67, 0.3), 0px 1px 3px 1px rgba(60, 64, 67, 0.15);\n",
              "        fill: #174EA6;\n",
              "      }\n",
              "\n",
              "      [theme=dark] .colab-df-generate {\n",
              "        background-color: #3B4455;\n",
              "        fill: #D2E3FC;\n",
              "      }\n",
              "\n",
              "      [theme=dark] .colab-df-generate:hover {\n",
              "        background-color: #434B5C;\n",
              "        box-shadow: 0px 1px 3px 1px rgba(0, 0, 0, 0.15);\n",
              "        filter: drop-shadow(0px 1px 2px rgba(0, 0, 0, 0.3));\n",
              "        fill: #FFFFFF;\n",
              "      }\n",
              "    </style>\n",
              "    <button class=\"colab-df-generate\" onclick=\"generateWithVariable('train_data')\"\n",
              "            title=\"Generate code using this dataframe.\"\n",
              "            style=\"display:none;\">\n",
              "\n",
              "  <svg xmlns=\"http://www.w3.org/2000/svg\" height=\"24px\"viewBox=\"0 0 24 24\"\n",
              "       width=\"24px\">\n",
              "    <path d=\"M7,19H8.4L18.45,9,17,7.55,7,17.6ZM5,21V16.75L18.45,3.32a2,2,0,0,1,2.83,0l1.4,1.43a1.91,1.91,0,0,1,.58,1.4,1.91,1.91,0,0,1-.58,1.4L9.25,21ZM18.45,9,17,7.55Zm-12,3A5.31,5.31,0,0,0,4.9,8.1,5.31,5.31,0,0,0,1,6.5,5.31,5.31,0,0,0,4.9,4.9,5.31,5.31,0,0,0,6.5,1,5.31,5.31,0,0,0,8.1,4.9,5.31,5.31,0,0,0,12,6.5,5.46,5.46,0,0,0,6.5,12Z\"/>\n",
              "  </svg>\n",
              "    </button>\n",
              "    <script>\n",
              "      (() => {\n",
              "      const buttonEl =\n",
              "        document.querySelector('#id_04188f90-9abb-45b6-8f09-8c93a5eda8f4 button.colab-df-generate');\n",
              "      buttonEl.style.display =\n",
              "        google.colab.kernel.accessAllowed ? 'block' : 'none';\n",
              "\n",
              "      buttonEl.onclick = () => {\n",
              "        google.colab.notebook.generateWithVariable('train_data');\n",
              "      }\n",
              "      })();\n",
              "    </script>\n",
              "  </div>\n",
              "\n",
              "    </div>\n",
              "  </div>\n"
            ],
            "application/vnd.google.colaboratory.intrinsic+json": {
              "type": "dataframe",
              "variable_name": "train_data"
            }
          },
          "metadata": {},
          "execution_count": 10
        }
      ]
    },
    {
      "cell_type": "markdown",
      "source": [
        "# kogpt 학습"
      ],
      "metadata": {
        "id": "hllOzN-lUrtU"
      }
    },
    {
      "cell_type": "code",
      "source": [
        "#토큰값 설정\n",
        "Q_TKN = '<usr>'\n",
        "L_TKN = '<emo>'\n",
        "A_TKN = '<sys>'\n",
        "BOS = \"</s>\"\n",
        "EOS = \"</s>\"\n",
        "UNK = \"<unk>\"\n",
        "MASK = \"<unused0>\"\n",
        "SENT = '<unused1>'\n",
        "PAD = '<pad>'"
      ],
      "metadata": {
        "id": "nnt_SlvBUwrG"
      },
      "execution_count": 6,
      "outputs": []
    },
    {
      "cell_type": "code",
      "source": [
        "class ConversationDataset(Dataset):\n",
        "    def __init__(self, data, tokenizer, max_len=100):\n",
        "        self.data = data\n",
        "        self.tokenizer = tokenizer\n",
        "        self.max_len = max_len\n",
        "\n",
        "    def __len__(self):\n",
        "        return len(self.data)\n",
        "\n",
        "    def __getitem__(self, idx):\n",
        "        instance = self.data.iloc[idx]\n",
        "        label, question, response = instance['감정'], instance['사람문장'], instance['시스템문장']\n",
        "\n",
        "        sentence = self.tokenizer.encode(Q_TKN + question + L_TKN + label + A_TKN + response,\n",
        "                                         max_length=self.max_len,\n",
        "                                         padding='max_length')\n",
        "\n",
        "        return torch.tensor([tokenizer.bos_token_id] + sentence + [tokenizer.eos_token_id], dtype=torch.long)"
      ],
      "metadata": {
        "id": "t1I7hfsbuoNv"
      },
      "execution_count": 12,
      "outputs": []
    },
    {
      "cell_type": "code",
      "source": [
        "EPOCH = 10\n",
        "BATCH_SIZE = 64\n",
        "LEARNING_RATE = 1e-6\n",
        "\n",
        "\n",
        "tokenizer = PreTrainedTokenizerFast.from_pretrained(\"skt/kogpt2-base-v2\", bos_token=BOS, eos_token=EOS, pad_token=PAD)\n",
        "model = GPT2LMHeadModel.from_pretrained('skt/kogpt2-base-v2')\n",
        "\n",
        "train_set = ConversationDataset(train_data, tokenizer)\n",
        "val_set = ConversationDataset(val_data, tokenizer)\n",
        "\n",
        "train_dataloader = DataLoader(train_set, batch_size=BATCH_SIZE, shuffle=True)\n",
        "val_dataloader = DataLoader(val_set, batch_size=BATCH_SIZE, shuffle=False)\n",
        "\n",
        "device = torch.device('cuda' if torch.cuda.is_available() else 'cpu')\n",
        "\n",
        "model = model.to(device)\n",
        "optimizer = torch.optim.AdamW(model.parameters(), lr=LEARNING_RATE, weight_decay=0.01)\n",
        "\n",
        "def lr_lambda(current_step):\n",
        "    if current_step < len(train_dataloader) // 8:\n",
        "        return float(current_step) / (len(train_dataloader) // 8)\n",
        "    return max(0.0, float(EPOCH * len(train_dataloader) - current_step) / (EPOCH * len(train_dataloader) - len(train_dataloader) // 8))\n",
        "\n",
        "scheduler = LambdaLR(optimizer, lr_lambda=lr_lambda)\n",
        "\n",
        "train_losses = []\n",
        "val_losses = []\n",
        "\n",
        "with tqdm(total=(len(train_dataloader) + len(val_dataloader))*EPOCH, desc='Fine-tuning the model') as pbar:\n",
        "    for epoch in range(EPOCH):\n",
        "        train_loss = 0\n",
        "        model.train()\n",
        "\n",
        "        for batch in train_dataloader:\n",
        "            optimizer.zero_grad()\n",
        "            inputs = batch.to(device)\n",
        "            outputs = model(inputs, labels=inputs)\n",
        "            loss = outputs.loss\n",
        "            loss.backward()\n",
        "            optimizer.step()\n",
        "            scheduler.step()\n",
        "            train_loss += loss.item()\n",
        "            pbar.update(1)\n",
        "\n",
        "        val_loss = 0\n",
        "        model.eval()\n",
        "\n",
        "        with torch.no_grad():\n",
        "            for batch in val_dataloader:\n",
        "                inputs = batch.to(device)\n",
        "                outputs = model(inputs, labels=inputs)\n",
        "                loss = outputs.loss\n",
        "                val_loss += loss.item()\n",
        "                pbar.update(1)\n",
        "\n",
        "        print(f\"Epoch {epoch + 1}, Train Loss: {train_loss / len(train_dataloader)}, Validation Loss: {val_loss / len(val_dataloader)}\")\n",
        "\n",
        "        train_losses.append(train_loss / len(train_dataloader))\n",
        "        val_losses.append(val_loss / len(val_dataloader))"
      ],
      "metadata": {
        "id": "N3aKeUd7AwYE",
        "colab": {
          "base_uri": "https://localhost:8080/"
        },
        "outputId": "a80dd2cc-b797-4fa2-b955-3b83e19b426a"
      },
      "execution_count": 51,
      "outputs": [
        {
          "output_type": "stream",
          "name": "stderr",
          "text": [
            "The tokenizer class you load from this checkpoint is not the same type as the class this function is called from. It may result in unexpected tokenization. \n",
            "The tokenizer class you load from this checkpoint is 'GPT2Tokenizer'. \n",
            "The class this function is called from is 'PreTrainedTokenizerFast'.\n",
            "Fine-tuning the model:  10%|█         | 2472/24720 [33:05<1:41:45,  3.64it/s]"
          ]
        },
        {
          "output_type": "stream",
          "name": "stdout",
          "text": [
            "Epoch 1, Train Loss: 1.4228705609840435, Validation Loss: 0.9148657580711663\n"
          ]
        },
        {
          "output_type": "stream",
          "name": "stderr",
          "text": [
            "Fine-tuning the model:  20%|██        | 4944/24720 [1:06:11<1:30:43,  3.63it/s]"
          ]
        },
        {
          "output_type": "stream",
          "name": "stdout",
          "text": [
            "Epoch 2, Train Loss: 0.9301149477048967, Validation Loss: 0.8819943793727834\n"
          ]
        },
        {
          "output_type": "stream",
          "name": "stderr",
          "text": [
            "Fine-tuning the model:  30%|███       | 7416/24720 [1:39:17<1:19:10,  3.64it/s]"
          ]
        },
        {
          "output_type": "stream",
          "name": "stdout",
          "text": [
            "Epoch 3, Train Loss: 0.8989609398019199, Validation Loss: 0.8656196307881447\n"
          ]
        },
        {
          "output_type": "stream",
          "name": "stderr",
          "text": [
            "Fine-tuning the model:  40%|████      | 9888/24720 [2:12:23<1:07:31,  3.66it/s]"
          ]
        },
        {
          "output_type": "stream",
          "name": "stdout",
          "text": [
            "Epoch 4, Train Loss: 0.8813441970042581, Validation Loss: 0.8552718372531632\n"
          ]
        },
        {
          "output_type": "stream",
          "name": "stderr",
          "text": [
            "Fine-tuning the model:  50%|█████     | 12360/24720 [2:45:28<56:17,  3.66it/s]  "
          ]
        },
        {
          "output_type": "stream",
          "name": "stdout",
          "text": [
            "Epoch 5, Train Loss: 0.8705542806020777, Validation Loss: 0.8482181224110288\n"
          ]
        },
        {
          "output_type": "stream",
          "name": "stderr",
          "text": [
            "Fine-tuning the model:  60%|██████    | 14832/24720 [3:18:34<45:08,  3.65it/s]"
          ]
        },
        {
          "output_type": "stream",
          "name": "stdout",
          "text": [
            "Epoch 6, Train Loss: 0.8635229946869467, Validation Loss: 0.8440323756258683\n"
          ]
        },
        {
          "output_type": "stream",
          "name": "stderr",
          "text": [
            "Fine-tuning the model:  70%|███████   | 17304/24720 [3:51:40<33:49,  3.65it/s]"
          ]
        },
        {
          "output_type": "stream",
          "name": "stdout",
          "text": [
            "Epoch 7, Train Loss: 0.8585263011064882, Validation Loss: 0.8408224837211528\n"
          ]
        },
        {
          "output_type": "stream",
          "name": "stderr",
          "text": [
            "Fine-tuning the model:  80%|████████  | 19776/24720 [4:24:44<22:42,  3.63it/s]"
          ]
        },
        {
          "output_type": "stream",
          "name": "stdout",
          "text": [
            "Epoch 8, Train Loss: 0.8550285319115462, Validation Loss: 0.8388363434750838\n"
          ]
        },
        {
          "output_type": "stream",
          "name": "stderr",
          "text": [
            "Fine-tuning the model:  90%|█████████ | 22248/24720 [4:57:40<11:19,  3.64it/s]"
          ]
        },
        {
          "output_type": "stream",
          "name": "stdout",
          "text": [
            "Epoch 9, Train Loss: 0.8528716121564331, Validation Loss: 0.8376375237393634\n"
          ]
        },
        {
          "output_type": "stream",
          "name": "stderr",
          "text": [
            "Fine-tuning the model: 100%|██████████| 24720/24720 [5:30:44<00:00,  1.25it/s]"
          ]
        },
        {
          "output_type": "stream",
          "name": "stdout",
          "text": [
            "Epoch 10, Train Loss: 0.8517346162058239, Validation Loss: 0.8372646845956714\n"
          ]
        },
        {
          "output_type": "stream",
          "name": "stderr",
          "text": [
            "\n"
          ]
        }
      ]
    },
    {
      "cell_type": "code",
      "source": [
        "plt.plot(train_losses, label='Train Loss', marker='o', color='blue')\n",
        "plt.plot(val_losses, label='Val Loss', marker='x', color='red')\n",
        "\n",
        "plt.xlabel('Epoch')\n",
        "plt.ylabel('Loss')\n",
        "plt.legend()\n",
        "\n",
        "plt.show()"
      ],
      "metadata": {
        "id": "TnkEAzLAgdgc",
        "colab": {
          "base_uri": "https://localhost:8080/",
          "height": 447
        },
        "outputId": "fbd5f63e-1b82-483f-d233-4c578730227f"
      },
      "execution_count": 52,
      "outputs": [
        {
          "output_type": "display_data",
          "data": {
            "text/plain": [
              "<Figure size 640x480 with 1 Axes>"
            ],
            "image/png": "[encoded data removed]"
          },
          "metadata": {}
        }
      ]
    },
    {
      "cell_type": "code",
      "source": [
        "model_save_path = '/content/drive/MyDrive/kogpt_finetuned.pth'\n",
        "torch.save(model.state_dict(), model_save_path)\n",
        "print(f\"Model saved at: {model_save_path}\")"
      ],
      "metadata": {
        "id": "2r6tiez7wowo",
        "colab": {
          "base_uri": "https://localhost:8080/"
        },
        "outputId": "7d2705f0-22e1-4381-ee94-22a267d2a9c0"
      },
      "execution_count": 53,
      "outputs": [
        {
          "output_type": "stream",
          "name": "stdout",
          "text": [
            "Model saved at: /content/drive/MyDrive/kogpt_finetuned.pth\n"
          ]
        }
      ]
    },
    {
      "cell_type": "markdown",
      "source": [
        "# Chatbot"
      ],
      "metadata": {
        "id": "P_xArVwZ9kKT"
      }
    },
    {
      "cell_type": "code",
      "source": [
        "from google.colab import drive\n",
        "drive.mount('/content/drive')"
      ],
      "metadata": {
        "id": "XpMZ-Knme4BW"
      },
      "execution_count": null,
      "outputs": []
    },
    {
      "cell_type": "code",
      "source": [
        "import math\n",
        "import numpy as np\n",
        "import pandas as pd\n",
        "import random\n",
        "import re\n",
        "import torch\n",
        "import urllib.request\n",
        "from torch.utils.data import DataLoader, Dataset\n",
        "from transformers.optimization import AdamW, get_cosine_schedule_with_warmup\n",
        "from transformers import PreTrainedTokenizerFast, GPT2LMHeadModel\n",
        "from tqdm import tqdm\n",
        "from torch.nn.utils.rnn import pad_sequence\n",
        "from torch.optim.lr_scheduler import LambdaLR"
      ],
      "metadata": {
        "id": "9IE9Zj8ie53b"
      },
      "execution_count": null,
      "outputs": []
    },
    {
      "cell_type": "code",
      "source": [
        "#토큰값 설정\n",
        "Q_TKN = '<usr>'\n",
        "L_TKN = '<emo>'\n",
        "A_TKN = '<sys>'\n",
        "BOS = \"</s>\"\n",
        "EOS = \"</s>\"\n",
        "UNK = \"<unk>\"\n",
        "MASK = \"<unused0>\"\n",
        "SENT = '<unused1>'\n",
        "PAD = '<pad>'"
      ],
      "metadata": {
        "id": "DHlhkI6JenvP"
      },
      "execution_count": 3,
      "outputs": []
    },
    {
      "cell_type": "code",
      "source": [
        "class KoGPTChatbot():\n",
        "    def __init__(self, model, saved_weights_path, tokenizer):\n",
        "        self.model = model\n",
        "        self.model.load_state_dict(torch.load(saved_weights_path))\n",
        "        self.tokenizer = tokenizer\n",
        "\n",
        "    def start_chat(self):\n",
        "        print('============================================\\n')\n",
        "        print(\"대화를 그만하고 싶으면 'quit'을 입력해주세요.\\n\")\n",
        "        print('============================================\\n')\n",
        "\n",
        "        while True:\n",
        "            input_text = input(\"나: \")\n",
        "\n",
        "            if input_text != 'quit':\n",
        "                sentence = self.tokenizer.encode(Q_TKN + input_text + L_TKN)\n",
        "                tokenized_input = torch.tensor([tokenizer.bos_token_id] + sentence, dtype=torch.long).unsqueeze(0)\n",
        "\n",
        "                answer = self.model.generate(tokenized_input,\n",
        "                                             min_length=50,\n",
        "                                             max_length=200,\n",
        "                                             repetition_penalty=1.2,\n",
        "                                             do_sample=True,\n",
        "                                             no_repeat_ngram_size=5,\n",
        "                                             temperature=0.03,\n",
        "                                             top_k=10)\n",
        "\n",
        "                output = tokenizer.decode(answer[0].numpy().tolist())\n",
        "\n",
        "                generated = output.split(L_TKN)[1]\n",
        "                label = generated.split(A_TKN + ' ')[0]\n",
        "                response = generated.split(A_TKN + ' ')[1].split(PAD)[0]\n",
        "\n",
        "                print('예상 감정: ', label)\n",
        "                print('챗봇: ', response, '\\n')\n",
        "            else:\n",
        "                break"
      ],
      "metadata": {
        "id": "4fhA3C8L9nXb"
      },
      "execution_count": 4,
      "outputs": []
    },
    {
      "cell_type": "code",
      "source": [
        "tokenizer = PreTrainedTokenizerFast.from_pretrained(\"skt/kogpt2-base-v2\", bos_token=BOS, eos_token=EOS, pad_token=PAD)\n",
        "base_model = GPT2LMHeadModel.from_pretrained('skt/kogpt2-base-v2')\n",
        "bot = KoGPTChatbot(base_model, '/content/drive/MyDrive/kogpt_finetuned.pth', tokenizer)"
      ],
      "metadata": {
        "id": "vjksLyT--8wg",
        "colab": {
          "base_uri": "https://localhost:8080/"
        },
        "outputId": "d35054ba-38f2-41c6-9927-2f4de9567e40"
      },
      "execution_count": 9,
      "outputs": [
        {
          "output_type": "stream",
          "name": "stderr",
          "text": [
            "The tokenizer class you load from this checkpoint is not the same type as the class this function is called from. It may result in unexpected tokenization. \n",
            "The tokenizer class you load from this checkpoint is 'GPT2Tokenizer'. \n",
            "The class this function is called from is 'PreTrainedTokenizerFast'.\n"
          ]
        }
      ]
    },
    {
      "cell_type": "code",
      "source": [
        "bot.start_chat()"
      ],
      "metadata": {
        "id": "r0TP1H-2JDau",
        "colab": {
          "base_uri": "https://localhost:8080/"
        },
        "outputId": "56e93162-a826-4494-d5dc-002b92f4c253"
      },
      "execution_count": 10,
      "outputs": [
        {
          "name": "stdout",
          "output_type": "stream",
          "text": [
            "============================================\n",
            "\n",
            "대화를 그만하고 싶으면 'quit'을 입력해주세요.\n",
            "\n",
            "============================================\n",
            "\n",
            "나: 나 오늘 기분이 별로야\n",
            "예상 감정:  짜증내는\n",
            "챗봇:  무슨 일이 있으셨나요? \n",
            "\n",
            "나: 시험을 망쳤어\n",
            "예상 감정:  죄책감의\n",
            "챗봇:  시험이 잘 안 되어서 죄책감이 드시는군요. \n",
            "\n",
            "나: quit\n"
          ]
        }
      ]
    }
  ]
}